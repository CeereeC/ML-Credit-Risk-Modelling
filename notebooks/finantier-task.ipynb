{
 "cells": [
  {
   "cell_type": "markdown",
   "id": "347af585",
   "metadata": {},
   "source": [
    "# Customer Credit Risk Modelling:\n",
    "# Artificial Neural Network\n",
    "\n",
    "## Introduction\n",
    "\n",
    "In this exercise, I will be implementing a deep learning (DL) model for the default classification problem. The task is to predict the likelihood of a customer defaulting on telco payments based on their telco data.\n",
    "\n",
    "The customer dataset I will be using contains information about a fictional telco company that provided home phone and Internet services to 7048 customers. It indicates which customers have left, stayed, or signed up for their service."
   ]
  },
  {
   "cell_type": "markdown",
   "id": "df19b959",
   "metadata": {},
   "source": [
    "## Data Exploration"
   ]
  },
  {
   "cell_type": "code",
   "execution_count": 1,
   "id": "01756c5f",
   "metadata": {
    "scrolled": true
   },
   "outputs": [],
   "source": [
    "import pandas as pd\n",
    "import numpy as np\n",
    "import tensorflow as tf\n",
    "from tensorflow import keras"
   ]
  },
  {
   "cell_type": "code",
   "execution_count": 2,
   "id": "85998887",
   "metadata": {
    "scrolled": true
   },
   "outputs": [],
   "source": [
    "df = pd.read_csv(\"../dataset/finantier_data_technical_test_dataset.csv\", skip_blank_lines=True)"
   ]
  },
  {
   "cell_type": "code",
   "execution_count": 3,
   "id": "eb8a53ba",
   "metadata": {},
   "outputs": [
    {
     "name": "stdout",
     "output_type": "stream",
     "text": [
      "<class 'pandas.core.frame.DataFrame'>\n",
      "RangeIndex: 7048 entries, 0 to 7047\n",
      "Data columns (total 22 columns):\n",
      " #   Column            Non-Null Count  Dtype  \n",
      "---  ------            --------------  -----  \n",
      " 0   customerID        7044 non-null   object \n",
      " 1   gender            7044 non-null   object \n",
      " 2   SeniorCitizen     7043 non-null   float64\n",
      " 3   Partner           7043 non-null   object \n",
      " 4   Dependents        7043 non-null   object \n",
      " 5   tenure            7043 non-null   float64\n",
      " 6   PhoneService      7043 non-null   object \n",
      " 7   MultipleLines     7043 non-null   object \n",
      " 8   InternetService   7043 non-null   object \n",
      " 9   OnlineSecurity    7043 non-null   object \n",
      " 10  OnlineBackup      7043 non-null   object \n",
      " 11  DeviceProtection  7043 non-null   object \n",
      " 12  TechSupport       7043 non-null   object \n",
      " 13  StreamingTV       7043 non-null   object \n",
      " 14  StreamingMovies   7043 non-null   object \n",
      " 15  Contract          7043 non-null   object \n",
      " 16  PaperlessBilling  7043 non-null   object \n",
      " 17  PaymentMethod     7043 non-null   object \n",
      " 18  MonthlyCharges    7043 non-null   float64\n",
      " 19  TotalCharges      7043 non-null   object \n",
      " 20  Default           7043 non-null   object \n",
      " 21  Error             4 non-null      object \n",
      "dtypes: float64(3), object(19)\n",
      "memory usage: 1.2+ MB\n"
     ]
    }
   ],
   "source": [
    "df.info()"
   ]
  },
  {
   "cell_type": "code",
   "execution_count": 4,
   "id": "8dd3ee12",
   "metadata": {},
   "outputs": [
    {
     "data": {
      "text/html": [
       "<div>\n",
       "<style scoped>\n",
       "    .dataframe tbody tr th:only-of-type {\n",
       "        vertical-align: middle;\n",
       "    }\n",
       "\n",
       "    .dataframe tbody tr th {\n",
       "        vertical-align: top;\n",
       "    }\n",
       "\n",
       "    .dataframe thead th {\n",
       "        text-align: right;\n",
       "    }\n",
       "</style>\n",
       "<table border=\"1\" class=\"dataframe\">\n",
       "  <thead>\n",
       "    <tr style=\"text-align: right;\">\n",
       "      <th></th>\n",
       "      <th>customerID</th>\n",
       "      <th>gender</th>\n",
       "      <th>SeniorCitizen</th>\n",
       "      <th>Partner</th>\n",
       "      <th>Dependents</th>\n",
       "      <th>tenure</th>\n",
       "      <th>PhoneService</th>\n",
       "      <th>MultipleLines</th>\n",
       "      <th>InternetService</th>\n",
       "      <th>OnlineSecurity</th>\n",
       "      <th>...</th>\n",
       "      <th>TechSupport</th>\n",
       "      <th>StreamingTV</th>\n",
       "      <th>StreamingMovies</th>\n",
       "      <th>Contract</th>\n",
       "      <th>PaperlessBilling</th>\n",
       "      <th>PaymentMethod</th>\n",
       "      <th>MonthlyCharges</th>\n",
       "      <th>TotalCharges</th>\n",
       "      <th>Default</th>\n",
       "      <th>Error</th>\n",
       "    </tr>\n",
       "  </thead>\n",
       "  <tbody>\n",
       "    <tr>\n",
       "      <th>0</th>\n",
       "      <td>4808-GHDJN</td>\n",
       "      <td>Female</td>\n",
       "      <td>NaN</td>\n",
       "      <td>NaN</td>\n",
       "      <td>NaN</td>\n",
       "      <td>NaN</td>\n",
       "      <td>NaN</td>\n",
       "      <td>NaN</td>\n",
       "      <td>NaN</td>\n",
       "      <td>NaN</td>\n",
       "      <td>...</td>\n",
       "      <td>NaN</td>\n",
       "      <td>NaN</td>\n",
       "      <td>NaN</td>\n",
       "      <td>NaN</td>\n",
       "      <td>NaN</td>\n",
       "      <td>NaN</td>\n",
       "      <td>NaN</td>\n",
       "      <td>NaN</td>\n",
       "      <td>NaN</td>\n",
       "      <td>error_error</td>\n",
       "    </tr>\n",
       "    <tr>\n",
       "      <th>1</th>\n",
       "      <td>7590-VHVEG</td>\n",
       "      <td>Female</td>\n",
       "      <td>0.0</td>\n",
       "      <td>Yes</td>\n",
       "      <td>No</td>\n",
       "      <td>1.0</td>\n",
       "      <td>No</td>\n",
       "      <td>No phone service</td>\n",
       "      <td>DSL</td>\n",
       "      <td>No</td>\n",
       "      <td>...</td>\n",
       "      <td>No</td>\n",
       "      <td>No</td>\n",
       "      <td>No</td>\n",
       "      <td>Month-to-month</td>\n",
       "      <td>Yes</td>\n",
       "      <td>Electronic check</td>\n",
       "      <td>29.85</td>\n",
       "      <td>29.85</td>\n",
       "      <td>No</td>\n",
       "      <td>NaN</td>\n",
       "    </tr>\n",
       "    <tr>\n",
       "      <th>2</th>\n",
       "      <td>5575-GNVDE</td>\n",
       "      <td>Male</td>\n",
       "      <td>0.0</td>\n",
       "      <td>No</td>\n",
       "      <td>No</td>\n",
       "      <td>34.0</td>\n",
       "      <td>Yes</td>\n",
       "      <td>No</td>\n",
       "      <td>DSL</td>\n",
       "      <td>Yes</td>\n",
       "      <td>...</td>\n",
       "      <td>No</td>\n",
       "      <td>No</td>\n",
       "      <td>No</td>\n",
       "      <td>One year</td>\n",
       "      <td>No</td>\n",
       "      <td>Mailed check</td>\n",
       "      <td>56.95</td>\n",
       "      <td>1889.5</td>\n",
       "      <td>No</td>\n",
       "      <td>error_error</td>\n",
       "    </tr>\n",
       "    <tr>\n",
       "      <th>3</th>\n",
       "      <td>3668-QPYBK</td>\n",
       "      <td>Male</td>\n",
       "      <td>0.0</td>\n",
       "      <td>No</td>\n",
       "      <td>No</td>\n",
       "      <td>2.0</td>\n",
       "      <td>Yes</td>\n",
       "      <td>No</td>\n",
       "      <td>DSL</td>\n",
       "      <td>Yes</td>\n",
       "      <td>...</td>\n",
       "      <td>No</td>\n",
       "      <td>No</td>\n",
       "      <td>No</td>\n",
       "      <td>Month-to-month</td>\n",
       "      <td>Yes</td>\n",
       "      <td>Mailed check</td>\n",
       "      <td>53.85</td>\n",
       "      <td>108.15</td>\n",
       "      <td>Yes</td>\n",
       "      <td>NaN</td>\n",
       "    </tr>\n",
       "    <tr>\n",
       "      <th>4</th>\n",
       "      <td>7795-CFOCW</td>\n",
       "      <td>Male</td>\n",
       "      <td>0.0</td>\n",
       "      <td>No</td>\n",
       "      <td>No</td>\n",
       "      <td>45.0</td>\n",
       "      <td>No</td>\n",
       "      <td>No phone service</td>\n",
       "      <td>DSL</td>\n",
       "      <td>Yes</td>\n",
       "      <td>...</td>\n",
       "      <td>Yes</td>\n",
       "      <td>No</td>\n",
       "      <td>No</td>\n",
       "      <td>One year</td>\n",
       "      <td>No</td>\n",
       "      <td>Bank transfer (automatic)</td>\n",
       "      <td>42.30</td>\n",
       "      <td>1840.75</td>\n",
       "      <td>No</td>\n",
       "      <td>NaN</td>\n",
       "    </tr>\n",
       "  </tbody>\n",
       "</table>\n",
       "<p>5 rows × 22 columns</p>\n",
       "</div>"
      ],
      "text/plain": [
       "   customerID  gender  SeniorCitizen Partner Dependents  tenure PhoneService  \\\n",
       "0  4808-GHDJN  Female            NaN     NaN        NaN     NaN          NaN   \n",
       "1  7590-VHVEG  Female            0.0     Yes         No     1.0           No   \n",
       "2  5575-GNVDE    Male            0.0      No         No    34.0          Yes   \n",
       "3  3668-QPYBK    Male            0.0      No         No     2.0          Yes   \n",
       "4  7795-CFOCW    Male            0.0      No         No    45.0           No   \n",
       "\n",
       "      MultipleLines InternetService OnlineSecurity  ... TechSupport  \\\n",
       "0               NaN             NaN            NaN  ...         NaN   \n",
       "1  No phone service             DSL             No  ...          No   \n",
       "2                No             DSL            Yes  ...          No   \n",
       "3                No             DSL            Yes  ...          No   \n",
       "4  No phone service             DSL            Yes  ...         Yes   \n",
       "\n",
       "  StreamingTV StreamingMovies        Contract PaperlessBilling  \\\n",
       "0         NaN             NaN             NaN              NaN   \n",
       "1          No              No  Month-to-month              Yes   \n",
       "2          No              No        One year               No   \n",
       "3          No              No  Month-to-month              Yes   \n",
       "4          No              No        One year               No   \n",
       "\n",
       "               PaymentMethod MonthlyCharges TotalCharges  Default        Error  \n",
       "0                        NaN            NaN          NaN      NaN  error_error  \n",
       "1           Electronic check          29.85        29.85       No          NaN  \n",
       "2               Mailed check          56.95       1889.5       No  error_error  \n",
       "3               Mailed check          53.85       108.15      Yes          NaN  \n",
       "4  Bank transfer (automatic)          42.30      1840.75       No          NaN  \n",
       "\n",
       "[5 rows x 22 columns]"
      ]
     },
     "execution_count": 4,
     "metadata": {},
     "output_type": "execute_result"
    }
   ],
   "source": [
    "df.head()"
   ]
  },
  {
   "cell_type": "markdown",
   "id": "2c5d1f8c",
   "metadata": {},
   "source": [
    "## Data Cleaning"
   ]
  },
  {
   "cell_type": "code",
   "execution_count": 5,
   "id": "3605f732",
   "metadata": {
    "scrolled": true
   },
   "outputs": [],
   "source": [
    "# Remove blank rows\n",
    "df.dropna(how=\"all\", inplace=True)\n",
    "\n",
    "# Remove rows with errors\n",
    "df = df[df['Error'].isnull()]\n",
    "\n",
    "# Remove customerID and Error Columns\n",
    "df = df.iloc[:, 1:-1]\n",
    "\n",
    "# Handle missing values for TotalCharges\n",
    "df = df.replace(' ', 0.0)     \n",
    "\n",
    "# Convert TotalCharges to Float\n",
    "df['TotalCharges'] = pd.to_numeric(df['TotalCharges'])"
   ]
  },
  {
   "cell_type": "markdown",
   "id": "e35f3814",
   "metadata": {},
   "source": [
    "## Data Transformation"
   ]
  },
  {
   "cell_type": "code",
   "execution_count": 6,
   "id": "6d8c8a3c",
   "metadata": {
    "scrolled": true
   },
   "outputs": [],
   "source": [
    "ordinal_columns = ['gender', 'Partner', 'Dependents', 'PhoneService', 'PaperlessBilling']\n",
    "hot_columns = ['PaymentMethod','MultipleLines', 'InternetService','OnlineSecurity','OnlineBackup','DeviceProtection','TechSupport','StreamingTV','StreamingMovies','Contract']\n",
    "numerical_columns = ['tenure','MonthlyCharges','TotalCharges']"
   ]
  },
  {
   "cell_type": "code",
   "execution_count": 7,
   "id": "16d053f7",
   "metadata": {
    "scrolled": true
   },
   "outputs": [
    {
     "data": {
      "text/plain": [
       "array([[<AxesSubplot:title={'center':'tenure'}>,\n",
       "        <AxesSubplot:title={'center':'MonthlyCharges'}>],\n",
       "       [<AxesSubplot:title={'center':'TotalCharges'}>, <AxesSubplot:>]],\n",
       "      dtype=object)"
      ]
     },
     "execution_count": 7,
     "metadata": {},
     "output_type": "execute_result"
    },
    {
     "data": {
      "image/png": "[encoded data removed]",
      "text/plain": [
       "<Figure size 720x504 with 4 Axes>"
      ]
     },
     "metadata": {
      "needs_background": "light"
     },
     "output_type": "display_data"
    }
   ],
   "source": [
    "df[[\"tenure\",\"MonthlyCharges\",\"TotalCharges\"]].hist(bins=30, figsize=(10, 7))"
   ]
  },
  {
   "cell_type": "code",
   "execution_count": 8,
   "id": "e06adfe3",
   "metadata": {
    "scrolled": true
   },
   "outputs": [],
   "source": [
    "X = df.iloc[:, 0:-1]\n",
    "y = df.iloc[:, -1]"
   ]
  },
  {
   "cell_type": "code",
   "execution_count": 9,
   "id": "9049c9bc",
   "metadata": {
    "scrolled": true
   },
   "outputs": [],
   "source": [
    "from sklearn.preprocessing import LabelEncoder\n",
    "from sklearn.preprocessing import OneHotEncoder\n",
    "from sklearn.preprocessing import OrdinalEncoder\n",
    "from sklearn.preprocessing import StandardScaler\n",
    "\n",
    "le = LabelEncoder()\n",
    "y = le.fit_transform(y)"
   ]
  },
  {
   "cell_type": "code",
   "execution_count": 10,
   "id": "9cd674ad",
   "metadata": {
    "scrolled": true
   },
   "outputs": [],
   "source": [
    "from sklearn.compose import make_column_transformer\n",
    "\n",
    "column_trans = make_column_transformer(\n",
    "    (OneHotEncoder(), hot_columns),\n",
    "    (OrdinalEncoder(), ordinal_columns),\n",
    "    (StandardScaler(), numerical_columns),\n",
    "    remainder='passthrough')"
   ]
  },
  {
   "cell_type": "code",
   "execution_count": 11,
   "id": "9b0bc864",
   "metadata": {
    "scrolled": true
   },
   "outputs": [],
   "source": [
    "from sklearn.model_selection import train_test_split\n",
    "X_train, X_test, y_train, y_test = train_test_split(X, y, test_size=0.3)"
   ]
  },
  {
   "cell_type": "markdown",
   "id": "f6e12563",
   "metadata": {},
   "source": [
    "## Building the Model and Pipeline"
   ]
  },
  {
   "cell_type": "code",
   "execution_count": 12,
   "id": "32fcdcd7",
   "metadata": {
    "scrolled": true
   },
   "outputs": [],
   "source": [
    "from keras.models import Sequential\n",
    "from keras.layers import Dense\n",
    "\n",
    "def make_model():\n",
    "    model = Sequential()\n",
    "    model.add(Dense(16, input_shape=(40,),activation=\"relu\"))\n",
    "    model.add(Dense(8, activation=\"relu\"))\n",
    "    model.add(Dense(1, activation='sigmoid')) \n",
    "    model.compile(optimizer = 'adam', loss = 'binary_crossentropy', metrics = ['accuracy'])\n",
    "    return model"
   ]
  },
  {
   "cell_type": "code",
   "execution_count": 13,
   "id": "ea735501",
   "metadata": {
    "scrolled": true
   },
   "outputs": [],
   "source": [
    "from scikeras.wrappers import KerasClassifier, KerasRegressor\n",
    "\n",
    "estimator = KerasRegressor(model=make_model, epochs=50, batch_size=100, loss=\"binary_crossentropy\", )"
   ]
  },
  {
   "cell_type": "code",
   "execution_count": 14,
   "id": "299c6780",
   "metadata": {
    "scrolled": true
   },
   "outputs": [],
   "source": [
    "from sklearn.pipeline import make_pipeline\n",
    "\n",
    "pipeline = make_pipeline(column_trans, estimator)"
   ]
  },
  {
   "cell_type": "markdown",
   "id": "d3119721",
   "metadata": {},
   "source": [
    "## Evaluating Model"
   ]
  },
  {
   "cell_type": "code",
   "execution_count": 15,
   "id": "69de11e3",
   "metadata": {
    "scrolled": true
   },
   "outputs": [
    {
     "name": "stdout",
     "output_type": "stream",
     "text": [
      "Epoch 1/50\n"
     ]
    },
    {
     "name": "stderr",
     "output_type": "stream",
     "text": [
      "2022-02-19 02:26:20.308482: I tensorflow/core/platform/cpu_feature_guard.cc:151] This TensorFlow binary is optimized with oneAPI Deep Neural Network Library (oneDNN) to use the following CPU instructions in performance-critical operations:  AVX2 FMA\n",
      "To enable them in other operations, rebuild TensorFlow with the appropriate compiler flags.\n"
     ]
    },
    {
     "name": "stdout",
     "output_type": "stream",
     "text": [
      "50/50 [==============================] - 0s 1ms/step - loss: 0.7429 - accuracy: 0.4056\n",
      "Epoch 2/50\n",
      "50/50 [==============================] - 0s 1ms/step - loss: 0.6791 - accuracy: 0.7372\n",
      "Epoch 3/50\n",
      "50/50 [==============================] - 0s 883us/step - loss: 0.6640 - accuracy: 0.7794\n",
      "Epoch 4/50\n",
      "50/50 [==============================] - 0s 876us/step - loss: 0.6485 - accuracy: 0.7890\n",
      "Epoch 5/50\n",
      "50/50 [==============================] - 0s 865us/step - loss: 0.6251 - accuracy: 0.7942\n",
      "Epoch 6/50\n",
      "50/50 [==============================] - 0s 874us/step - loss: 0.5474 - accuracy: 0.8042\n",
      "Epoch 7/50\n",
      "50/50 [==============================] - 0s 871us/step - loss: 0.4570 - accuracy: 0.8034\n",
      "Epoch 8/50\n",
      "50/50 [==============================] - 0s 869us/step - loss: 0.4277 - accuracy: 0.8030\n",
      "Epoch 9/50\n",
      "50/50 [==============================] - 0s 910us/step - loss: 0.4219 - accuracy: 0.8050\n",
      "Epoch 10/50\n",
      "50/50 [==============================] - 0s 1ms/step - loss: 0.4185 - accuracy: 0.8064\n",
      "Epoch 11/50\n",
      "50/50 [==============================] - 0s 928us/step - loss: 0.4167 - accuracy: 0.8066\n",
      "Epoch 12/50\n",
      "50/50 [==============================] - 0s 921us/step - loss: 0.4151 - accuracy: 0.8050\n",
      "Epoch 13/50\n",
      "50/50 [==============================] - 0s 860us/step - loss: 0.4142 - accuracy: 0.8056\n",
      "Epoch 14/50\n",
      "50/50 [==============================] - 0s 831us/step - loss: 0.4126 - accuracy: 0.8072\n",
      "Epoch 15/50\n",
      "50/50 [==============================] - 0s 835us/step - loss: 0.4111 - accuracy: 0.8076\n",
      "Epoch 16/50\n",
      "50/50 [==============================] - 0s 833us/step - loss: 0.4105 - accuracy: 0.8095\n",
      "Epoch 17/50\n",
      "50/50 [==============================] - 0s 867us/step - loss: 0.4095 - accuracy: 0.8084\n",
      "Epoch 18/50\n",
      "50/50 [==============================] - 0s 838us/step - loss: 0.4086 - accuracy: 0.8097\n",
      "Epoch 19/50\n",
      "50/50 [==============================] - 0s 840us/step - loss: 0.4078 - accuracy: 0.8084\n",
      "Epoch 20/50\n",
      "50/50 [==============================] - 0s 872us/step - loss: 0.4067 - accuracy: 0.8113\n",
      "Epoch 21/50\n",
      "50/50 [==============================] - 0s 844us/step - loss: 0.4068 - accuracy: 0.8097\n",
      "Epoch 22/50\n",
      "50/50 [==============================] - 0s 819us/step - loss: 0.4059 - accuracy: 0.8129\n",
      "Epoch 23/50\n",
      "50/50 [==============================] - 0s 861us/step - loss: 0.4046 - accuracy: 0.8115\n",
      "Epoch 24/50\n",
      "50/50 [==============================] - 0s 825us/step - loss: 0.4044 - accuracy: 0.8127\n",
      "Epoch 25/50\n",
      "50/50 [==============================] - 0s 823us/step - loss: 0.4037 - accuracy: 0.8145\n",
      "Epoch 26/50\n",
      "50/50 [==============================] - 0s 834us/step - loss: 0.4038 - accuracy: 0.8143\n",
      "Epoch 27/50\n",
      "50/50 [==============================] - 0s 841us/step - loss: 0.4030 - accuracy: 0.8133\n",
      "Epoch 28/50\n",
      "50/50 [==============================] - 0s 927us/step - loss: 0.4032 - accuracy: 0.8125\n",
      "Epoch 29/50\n",
      "50/50 [==============================] - 0s 1ms/step - loss: 0.4023 - accuracy: 0.8149\n",
      "Epoch 30/50\n",
      "50/50 [==============================] - 0s 1ms/step - loss: 0.4019 - accuracy: 0.8151\n",
      "Epoch 31/50\n",
      "50/50 [==============================] - 0s 1ms/step - loss: 0.4010 - accuracy: 0.8139\n",
      "Epoch 32/50\n",
      "50/50 [==============================] - 0s 1ms/step - loss: 0.4007 - accuracy: 0.8137\n",
      "Epoch 33/50\n",
      "50/50 [==============================] - 0s 1ms/step - loss: 0.4012 - accuracy: 0.8155\n",
      "Epoch 34/50\n",
      "50/50 [==============================] - 0s 1ms/step - loss: 0.4002 - accuracy: 0.8141\n",
      "Epoch 35/50\n",
      "50/50 [==============================] - 0s 891us/step - loss: 0.3996 - accuracy: 0.8162\n",
      "Epoch 36/50\n",
      "50/50 [==============================] - 0s 938us/step - loss: 0.3990 - accuracy: 0.8166\n",
      "Epoch 37/50\n",
      "50/50 [==============================] - 0s 966us/step - loss: 0.3985 - accuracy: 0.8182\n",
      "Epoch 38/50\n",
      "50/50 [==============================] - 0s 910us/step - loss: 0.3985 - accuracy: 0.8155\n",
      "Epoch 39/50\n",
      "50/50 [==============================] - 0s 866us/step - loss: 0.3981 - accuracy: 0.8155\n",
      "Epoch 40/50\n",
      "50/50 [==============================] - 0s 830us/step - loss: 0.3981 - accuracy: 0.8172\n",
      "Epoch 41/50\n",
      "50/50 [==============================] - 0s 884us/step - loss: 0.3979 - accuracy: 0.8153\n",
      "Epoch 42/50\n",
      "50/50 [==============================] - 0s 831us/step - loss: 0.3974 - accuracy: 0.8172\n",
      "Epoch 43/50\n",
      "50/50 [==============================] - 0s 843us/step - loss: 0.3967 - accuracy: 0.8149\n",
      "Epoch 44/50\n",
      "50/50 [==============================] - 0s 832us/step - loss: 0.3967 - accuracy: 0.8159\n",
      "Epoch 45/50\n",
      "50/50 [==============================] - 0s 845us/step - loss: 0.3970 - accuracy: 0.8174\n",
      "Epoch 46/50\n",
      "50/50 [==============================] - 0s 827us/step - loss: 0.3973 - accuracy: 0.8139\n",
      "Epoch 47/50\n",
      "50/50 [==============================] - 0s 882us/step - loss: 0.3958 - accuracy: 0.8178\n",
      "Epoch 48/50\n",
      "50/50 [==============================] - 0s 831us/step - loss: 0.3953 - accuracy: 0.8178\n",
      "Epoch 49/50\n",
      "50/50 [==============================] - 0s 835us/step - loss: 0.3960 - accuracy: 0.8200\n",
      "Epoch 50/50\n",
      "50/50 [==============================] - 0s 882us/step - loss: 0.3955 - accuracy: 0.8174\n"
     ]
    },
    {
     "data": {
      "text/plain": [
       "Pipeline(steps=[('columntransformer',\n",
       "                 ColumnTransformer(remainder='passthrough',\n",
       "                                   transformers=[('onehotencoder',\n",
       "                                                  OneHotEncoder(),\n",
       "                                                  ['PaymentMethod',\n",
       "                                                   'MultipleLines',\n",
       "                                                   'InternetService',\n",
       "                                                   'OnlineSecurity',\n",
       "                                                   'OnlineBackup',\n",
       "                                                   'DeviceProtection',\n",
       "                                                   'TechSupport', 'StreamingTV',\n",
       "                                                   'StreamingMovies',\n",
       "                                                   'Contract']),\n",
       "                                                 ('ordinalencoder',\n",
       "                                                  OrdinalEncoder(),\n",
       "                                                  ['gender', 'Partner',\n",
       "                                                   'Dependents', 'PhoneService',\n",
       "                                                   'PaperlessBilling']),\n",
       "                                                 ('standardscaler',\n",
       "                                                  StandardScaler(),\n",
       "                                                  ['tenure', 'MonthlyCharges',\n",
       "                                                   'TotalCharges'])])),\n",
       "                ('kerasregressor',\n",
       "                 KerasRegressor(batch_size=100, epochs=50, loss='binary_crossentropy', model=<function make_model at 0x1574496c0>))])"
      ]
     },
     "execution_count": 15,
     "metadata": {},
     "output_type": "execute_result"
    }
   ],
   "source": [
    "pipeline.fit(X_train, y_train)"
   ]
  },
  {
   "cell_type": "code",
   "execution_count": 16,
   "id": "bb25849d",
   "metadata": {
    "scrolled": true
   },
   "outputs": [
    {
     "name": "stdout",
     "output_type": "stream",
     "text": [
      "22/22 [==============================] - 0s 622us/step\n",
      "[[0 0]\n",
      " [0 1]\n",
      " [1 1]\n",
      " ...\n",
      " [0 0]\n",
      " [1 1]\n",
      " [0 0]]\n"
     ]
    }
   ],
   "source": [
    "y_pred = pipeline.predict(X_test)\n",
    "y_pred = (y_pred > 0.5)\n",
    "print(np.concatenate((y_pred.reshape(len(y_pred),1), y_test.reshape(len(y_test),1)),1))"
   ]
  },
  {
   "cell_type": "code",
   "execution_count": 17,
   "id": "9f4f15e8",
   "metadata": {
    "scrolled": true
   },
   "outputs": [
    {
     "name": "stdout",
     "output_type": "stream",
     "text": [
      "[[1411  140]\n",
      " [ 289  272]]\n"
     ]
    },
    {
     "data": {
      "text/plain": [
       "0.796875"
      ]
     },
     "execution_count": 17,
     "metadata": {},
     "output_type": "execute_result"
    }
   ],
   "source": [
    "from sklearn.metrics import confusion_matrix, accuracy_score, classification_report, f1_score\n",
    "\n",
    "cm = confusion_matrix(y_test, y_pred)\n",
    "print(cm)\n",
    "\n",
    "accuracy_score(y_test, y_pred)\n"
   ]
  },
  {
   "cell_type": "code",
   "execution_count": 18,
   "id": "63571292",
   "metadata": {},
   "outputs": [
    {
     "data": {
      "text/plain": [
       "0.5590955806783144"
      ]
     },
     "execution_count": 18,
     "metadata": {},
     "output_type": "execute_result"
    }
   ],
   "source": [
    "f1_score(y_true= y_test, y_pred= y_pred)"
   ]
  },
  {
   "cell_type": "code",
   "execution_count": 19,
   "id": "7de92ab7",
   "metadata": {},
   "outputs": [
    {
     "name": "stdout",
     "output_type": "stream",
     "text": [
      "              precision    recall  f1-score   support\n",
      "\n",
      "           0       0.83      0.91      0.87      1551\n",
      "           1       0.66      0.48      0.56       561\n",
      "\n",
      "    accuracy                           0.80      2112\n",
      "   macro avg       0.75      0.70      0.71      2112\n",
      "weighted avg       0.78      0.80      0.79      2112\n",
      "\n"
     ]
    }
   ],
   "source": [
    "print(classification_report(y_test, y_pred))"
   ]
  },
  {
   "cell_type": "markdown",
   "id": "8aeac71c",
   "metadata": {
    "scrolled": true
   },
   "source": [
    "## Hyperparameter Tuning"
   ]
  },
  {
   "cell_type": "markdown",
   "id": "58305c66",
   "metadata": {},
   "source": [
    "I will be use the [Bayesian Optimization Library](https://github.com/fmfn/BayesianOptimization) to tune the model\n",
    "\n",
    "Credit to [RendyK](https://www.kaggle.com/rendyk/neural-network-hyperparameter-tuning) whose functions I will be adapting in the following cells"
   ]
  },
  {
   "cell_type": "code",
   "execution_count": 20,
   "id": "6a487460",
   "metadata": {},
   "outputs": [],
   "source": [
    "from keras.models import Sequential\n",
    "from keras.layers import Dense, BatchNormalization, Dropout\n",
    "from tensorflow.keras.optimizers import Adam, SGD, RMSprop, Adadelta, Adagrad, Adamax, Nadam, Ftrl\n",
    "from keras.callbacks import EarlyStopping, ModelCheckpoint\n",
    "from keras.wrappers.scikit_learn import KerasClassifier\n",
    "\n",
    "from math import floor\n",
    "from sklearn.metrics import make_scorer, accuracy_score\n",
    "from bayes_opt import BayesianOptimization\n",
    "from sklearn.model_selection import StratifiedKFold\n",
    "from keras.layers import LeakyReLU\n",
    "\n",
    "from scikeras.wrappers import KerasClassifier, KerasRegressor\n",
    "from sklearn.model_selection import cross_val_score\n",
    "import warnings\n",
    "warnings.filterwarnings('ignore')\n",
    "\n",
    "LeakyReLU = LeakyReLU(alpha=0.1)"
   ]
  },
  {
   "cell_type": "code",
   "execution_count": 21,
   "id": "5fa59c03",
   "metadata": {},
   "outputs": [],
   "source": [
    "score_acc = make_scorer(accuracy_score)\n",
    "transformed_X_train = column_trans.fit_transform(X_train)\n",
    "\n",
    "# Create function\n",
    "def nn_cl_bo(neurons, activation, optimizer, learning_rate, batch_size, epochs,\n",
    "              layers1, layers2, normalization, dropout, dropout_rate):\n",
    "    optimizerL = ['SGD', 'Adam', 'RMSprop', 'Adadelta', 'Adagrad', 'Adamax', 'Nadam', 'Ftrl','SGD']\n",
    "    optimizerD= {'Adam':Adam(learning_rate=learning_rate), 'SGD':SGD(learning_rate=learning_rate),\n",
    "                 'RMSprop':RMSprop(learning_rate=learning_rate), 'Adadelta':Adadelta(learning_rate=learning_rate),\n",
    "                 'Adagrad':Adagrad(learning_rate=learning_rate), 'Adamax':Adamax(learning_rate=learning_rate),\n",
    "                 'Nadam':Nadam(learning_rate=learning_rate), 'Ftrl':Ftrl(learning_rate=learning_rate)}\n",
    "        \n",
    "    activationL = ['relu', 'sigmoid', 'softplus', 'softsign', 'tanh', 'selu',\n",
    "                   'elu', 'exponential', LeakyReLU,'relu']\n",
    "        \n",
    "    neurons = round(neurons)\n",
    "    activation = activationL[round(activation)]\n",
    "    optimizer = optimizerD[optimizerL[round(optimizer)]]\n",
    "    batch_size = round(batch_size)\n",
    "    epochs = round(epochs)\n",
    "    layers1 = round(layers1)\n",
    "    layers2 = round(layers2)\n",
    "\n",
    "    def nn_cl_func():\n",
    "        nn = Sequential()\n",
    "        nn.add(Dense(neurons, input_shape=(40,), activation=activation))\n",
    "        if normalization > 0.5:\n",
    "            nn.add(BatchNormalization())\n",
    "        for i in range(layers1):\n",
    "            nn.add(Dense(neurons, activation=activation))\n",
    "        if dropout > 0.5:\n",
    "            nn.add(Dropout(dropout_rate, seed=111))\n",
    "        for i in range(layers2):\n",
    "            nn.add(Dense(neurons, activation=activation))\n",
    "        nn.add(Dense(1, activation='sigmoid'))\n",
    "        nn.compile(loss='binary_crossentropy', optimizer=optimizer, metrics=['accuracy'])\n",
    "        return nn\n",
    "        \n",
    "    es = EarlyStopping(monitor='accuracy', mode='max', verbose=0, patience=20)\n",
    "    nn = KerasClassifier(build_fn=nn_cl_func, epochs=epochs, batch_size=batch_size, verbose=0)\n",
    "    \n",
    "    kfold = StratifiedKFold(n_splits=5, shuffle=True, random_state=111)\n",
    "    score = cross_val_score(nn, transformed_X_train, y_train, scoring=score_acc, cv=kfold, fit_params={'callbacks':[es]}).mean()\n",
    "    \n",
    "    return score"
   ]
  },
  {
   "cell_type": "markdown",
   "id": "17f74711",
   "metadata": {},
   "source": [
    "## Bayesian Optimization"
   ]
  },
  {
   "cell_type": "code",
   "execution_count": 23,
   "id": "17c155e2",
   "metadata": {},
   "outputs": [
    {
     "name": "stdout",
     "output_type": "stream",
     "text": [
      "|   iter    |  target   | activa... | batch_... |  dropout  | dropou... |  epochs   |  layers1  |  layers2  | learni... |  neurons  | normal... | optimizer |\n",
      "-------------------------------------------------------------------------------------------------------------------------------------------------------------\n",
      "| \u001b[0m 1       \u001b[0m | \u001b[0m 0.7991  \u001b[0m | \u001b[0m 5.51    \u001b[0m | \u001b[0m 167.6   \u001b[0m | \u001b[0m 0.4361  \u001b[0m | \u001b[0m 0.2308  \u001b[0m | \u001b[0m 43.63   \u001b[0m | \u001b[0m 1.298   \u001b[0m | \u001b[0m 1.045   \u001b[0m | \u001b[0m 0.426   \u001b[0m | \u001b[0m 26.71   \u001b[0m | \u001b[0m 0.3377  \u001b[0m | \u001b[0m 6.935   \u001b[0m |\n",
      "| \u001b[0m 2       \u001b[0m | \u001b[0m 0.7431  \u001b[0m | \u001b[0m 2.14    \u001b[0m | \u001b[0m 132.5   \u001b[0m | \u001b[0m 0.6696  \u001b[0m | \u001b[0m 0.1864  \u001b[0m | \u001b[0m 41.94   \u001b[0m | \u001b[0m 1.932   \u001b[0m | \u001b[0m 1.237   \u001b[0m | \u001b[0m 0.08322 \u001b[0m | \u001b[0m 73.05   \u001b[0m | \u001b[0m 0.794   \u001b[0m | \u001b[0m 5.884   \u001b[0m |\n",
      "WARNING:tensorflow:5 out of the last 15 calls to <function Model.make_predict_function.<locals>.predict_function at 0x15873a560> triggered tf.function retracing. Tracing is expensive and the excessive number of tracings could be due to (1) creating @tf.function repeatedly in a loop, (2) passing tensors with different shapes, (3) passing Python objects instead of tensors. For (1), please define your @tf.function outside of the loop. For (2), @tf.function has experimental_relax_shapes=True option that relaxes argument shapes that can avoid unnecessary retracing. For (3), please refer to https://www.tensorflow.org/guide/function#controlling_retracing and https://www.tensorflow.org/api_docs/python/tf/function for  more details.\n",
      "WARNING:tensorflow:6 out of the last 17 calls to <function Model.make_predict_function.<locals>.predict_function at 0x15873b760> triggered tf.function retracing. Tracing is expensive and the excessive number of tracings could be due to (1) creating @tf.function repeatedly in a loop, (2) passing tensors with different shapes, (3) passing Python objects instead of tensors. For (1), please define your @tf.function outside of the loop. For (2), @tf.function has experimental_relax_shapes=True option that relaxes argument shapes that can avoid unnecessary retracing. For (3), please refer to https://www.tensorflow.org/guide/function#controlling_retracing and https://www.tensorflow.org/api_docs/python/tf/function for  more details.\n",
      "| \u001b[0m 3       \u001b[0m | \u001b[0m 0.7346  \u001b[0m | \u001b[0m 7.337   \u001b[0m | \u001b[0m 496.4   \u001b[0m | \u001b[0m 0.5773  \u001b[0m | \u001b[0m 0.2441  \u001b[0m | \u001b[0m 53.71   \u001b[0m | \u001b[0m 1.055   \u001b[0m | \u001b[0m 1.908   \u001b[0m | \u001b[0m 0.1143  \u001b[0m | \u001b[0m 67.21   \u001b[0m | \u001b[0m 0.6977  \u001b[0m | \u001b[0m 3.957   \u001b[0m |\n",
      "| \u001b[0m 4       \u001b[0m | \u001b[0m 0.7346  \u001b[0m | \u001b[0m 2.468   \u001b[0m | \u001b[0m 499.4   \u001b[0m | \u001b[0m 0.138   \u001b[0m | \u001b[0m 0.1846  \u001b[0m | \u001b[0m 58.8    \u001b[0m | \u001b[0m 1.81    \u001b[0m | \u001b[0m 2.456   \u001b[0m | \u001b[0m 0.3296  \u001b[0m | \u001b[0m 38.04   \u001b[0m | \u001b[0m 0.319   \u001b[0m | \u001b[0m 6.631   \u001b[0m |\n",
      "| \u001b[0m 5       \u001b[0m | \u001b[0m 0.7752  \u001b[0m | \u001b[0m 8.268   \u001b[0m | \u001b[0m 425.5   \u001b[0m | \u001b[0m 0.03408 \u001b[0m | \u001b[0m 0.283   \u001b[0m | \u001b[0m 96.04   \u001b[0m | \u001b[0m 2.613   \u001b[0m | \u001b[0m 1.963   \u001b[0m | \u001b[0m 0.9671  \u001b[0m | \u001b[0m 39.19   \u001b[0m | \u001b[0m 0.3188  \u001b[0m | \u001b[0m 0.1151  \u001b[0m |\n",
      "| \u001b[0m 6       \u001b[0m | \u001b[0m 0.7987  \u001b[0m | \u001b[0m 0.3436  \u001b[0m | \u001b[0m 121.2   \u001b[0m | \u001b[0m 0.128   \u001b[0m | \u001b[0m 0.01001 \u001b[0m | \u001b[0m 38.11   \u001b[0m | \u001b[0m 2.088   \u001b[0m | \u001b[0m 1.357   \u001b[0m | \u001b[0m 0.1876  \u001b[0m | \u001b[0m 20.47   \u001b[0m | \u001b[0m 0.683   \u001b[0m | \u001b[0m 3.283   \u001b[0m |\n",
      "| \u001b[0m 7       \u001b[0m | \u001b[0m 0.7346  \u001b[0m | \u001b[0m 6.914   \u001b[0m | \u001b[0m 367.5   \u001b[0m | \u001b[0m 0.4413  \u001b[0m | \u001b[0m 0.1786  \u001b[0m | \u001b[0m 56.93   \u001b[0m | \u001b[0m 2.927   \u001b[0m | \u001b[0m 1.296   \u001b[0m | \u001b[0m 0.9077  \u001b[0m | \u001b[0m 44.85   \u001b[0m | \u001b[0m 0.5925  \u001b[0m | \u001b[0m 4.793   \u001b[0m |\n",
      "| \u001b[0m 8       \u001b[0m | \u001b[0m 0.7841  \u001b[0m | \u001b[0m 1.597   \u001b[0m | \u001b[0m 445.9   \u001b[0m | \u001b[0m 0.4821  \u001b[0m | \u001b[0m 0.0208  \u001b[0m | \u001b[0m 49.18   \u001b[0m | \u001b[0m 1.723   \u001b[0m | \u001b[0m 1.944   \u001b[0m | \u001b[0m 0.1877  \u001b[0m | \u001b[0m 22.27   \u001b[0m | \u001b[0m 0.9491  \u001b[0m | \u001b[0m 4.59    \u001b[0m |\n",
      "| \u001b[0m 9       \u001b[0m | \u001b[0m 0.7346  \u001b[0m | \u001b[0m 1.215   \u001b[0m | \u001b[0m 471.1   \u001b[0m | \u001b[0m 0.8418  \u001b[0m | \u001b[0m 0.01583 \u001b[0m | \u001b[0m 36.29   \u001b[0m | \u001b[0m 2.745   \u001b[0m | \u001b[0m 2.348   \u001b[0m | \u001b[0m 0.3043  \u001b[0m | \u001b[0m 61.41   \u001b[0m | \u001b[0m 0.6183  \u001b[0m | \u001b[0m 1.473   \u001b[0m |\n",
      "| \u001b[0m 10      \u001b[0m | \u001b[0m 0.7346  \u001b[0m | \u001b[0m 7.219   \u001b[0m | \u001b[0m 123.6   \u001b[0m | \u001b[0m 0.3082  \u001b[0m | \u001b[0m 0.06221 \u001b[0m | \u001b[0m 97.78   \u001b[0m | \u001b[0m 2.819   \u001b[0m | \u001b[0m 2.353   \u001b[0m | \u001b[0m 0.124   \u001b[0m | \u001b[0m 77.06   \u001b[0m | \u001b[0m 0.09171 \u001b[0m | \u001b[0m 4.409   \u001b[0m |\n",
      "Done\n"
     ]
    }
   ],
   "source": [
    "params_nn ={\n",
    "    'neurons': (10, 80),\n",
    "    'activation':(0, 9),\n",
    "    'optimizer':(0,7),\n",
    "    'learning_rate':(0.01, 1),\n",
    "    'batch_size':(100, 500),\n",
    "    'epochs':(20, 100),\n",
    "    'layers1':(1,3),\n",
    "    'layers2':(1,3),\n",
    "    'normalization':(0,1),\n",
    "    'dropout':(0,1),\n",
    "    'dropout_rate':(0,0.3)\n",
    "}\n",
    "\n",
    "\n",
    "# Run Bayesian Optimization\n",
    "try:\n",
    "    nn_bo = BayesianOptimization(nn_cl_bo, params_nn, random_state=111)\n",
    "    nn_bo.maximize(init_points=10, n_iter=4)\n",
    "except:\n",
    "    print(\"Done\")"
   ]
  },
  {
   "cell_type": "code",
   "execution_count": 24,
   "id": "c15b9dba",
   "metadata": {},
   "outputs": [
    {
     "data": {
      "text/plain": [
       "{'activation': 'elu',\n",
       " 'batch_size': 168,\n",
       " 'dropout': 0.4360590193711702,\n",
       " 'dropout_rate': 0.23077874175693686,\n",
       " 'epochs': 44,\n",
       " 'layers1': 1,\n",
       " 'layers2': 1,\n",
       " 'learning_rate': 0.42602224734191213,\n",
       " 'neurons': 27,\n",
       " 'normalization': 0.33765619188879237,\n",
       " 'optimizer': <keras.optimizer_v2.ftrl.Ftrl at 0x158c2da80>}"
      ]
     },
     "execution_count": 24,
     "metadata": {},
     "output_type": "execute_result"
    }
   ],
   "source": [
    "params_nn_ = nn_bo.max['params']\n",
    "\n",
    "learning_rate = params_nn_['learning_rate']\n",
    "activationL = ['relu', 'sigmoid', 'softplus', 'softsign', 'tanh', 'selu',\n",
    "               'elu', 'exponential', LeakyReLU,'relu']\n",
    "params_nn_['activation'] = activationL[round(params_nn_['activation'])]\n",
    "\n",
    "params_nn_['batch_size'] = round(params_nn_['batch_size'])\n",
    "params_nn_['epochs'] = round(params_nn_['epochs'])\n",
    "params_nn_['layers1'] = round(params_nn_['layers1'])\n",
    "params_nn_['layers2'] = round(params_nn_['layers2'])\n",
    "params_nn_['neurons'] = round(params_nn_['neurons'])\n",
    "\n",
    "optimizerL = ['Adam', 'SGD', 'RMSprop', 'Adadelta', 'Adagrad', 'Adamax', 'Nadam', 'Ftrl','Adam']\n",
    "optimizerD= {'Adam':Adam(learning_rate=learning_rate), 'SGD':SGD(learning_rate=learning_rate),\n",
    "             'RMSprop':RMSprop(learning_rate=learning_rate), 'Adadelta':Adadelta(learning_rate=learning_rate),\n",
    "             'Adagrad':Adagrad(learning_rate=learning_rate), 'Adamax':Adamax(learning_rate=learning_rate),\n",
    "             'Nadam':Nadam(learning_rate=learning_rate), 'Ftrl':Ftrl(learning_rate=learning_rate)}\n",
    "params_nn_['optimizer'] = optimizerD[optimizerL[round(params_nn_['optimizer'])]]\n",
    "\n",
    "params_nn_"
   ]
  },
  {
   "cell_type": "markdown",
   "id": "96504a81",
   "metadata": {},
   "source": [
    "## Building the Optimized Model\n"
   ]
  },
  {
   "cell_type": "code",
   "execution_count": 25,
   "id": "0298ce92",
   "metadata": {},
   "outputs": [],
   "source": [
    "def nn_cl_func():\n",
    "    nn = Sequential()\n",
    "    nn.add(Dense(params_nn_['neurons'], input_shape=(40,), activation=params_nn_['activation']))\n",
    "    if params_nn_['normalization'] > 0.5:\n",
    "        nn.add(BatchNormalization())\n",
    "    for i in range(params_nn_['layers1']):\n",
    "        nn.add(Dense(params_nn_['neurons'], activation=params_nn_['activation']))\n",
    "    if params_nn_['dropout'] > 0.5:\n",
    "        nn.add(Dropout(params_nn_['dropout_rate'], seed=123))\n",
    "    for i in range(params_nn_['layers2']):\n",
    "        nn.add(Dense(params_nn_['neurons'], activation=params_nn_['activation']))\n",
    "    nn.add(Dense(1, activation='sigmoid'))\n",
    "    nn.compile(loss='binary_crossentropy', optimizer=params_nn_['optimizer'], metrics=['accuracy'])\n",
    "    return nn"
   ]
  },
  {
   "cell_type": "code",
   "execution_count": 26,
   "id": "ccf6e9dd",
   "metadata": {},
   "outputs": [],
   "source": [
    "es = EarlyStopping(monitor='accuracy', mode='max', verbose=0, patience=20)\n",
    "nn = KerasClassifier(build_fn=nn_cl_func, epochs=params_nn_['epochs'], batch_size=params_nn_['batch_size'],\n",
    "                         verbose=0)"
   ]
  },
  {
   "cell_type": "code",
   "execution_count": 27,
   "id": "c1d68b10",
   "metadata": {},
   "outputs": [],
   "source": [
    "from sklearn.pipeline import make_pipeline\n",
    "\n",
    "optimized_pipeline = make_pipeline(column_trans, nn)"
   ]
  },
  {
   "cell_type": "markdown",
   "id": "c61e860c",
   "metadata": {},
   "source": [
    "## Evaluating the optimized model"
   ]
  },
  {
   "cell_type": "code",
   "execution_count": 28,
   "id": "1dde3d40",
   "metadata": {},
   "outputs": [
    {
     "data": {
      "text/plain": [
       "Pipeline(steps=[('columntransformer',\n",
       "                 ColumnTransformer(remainder='passthrough',\n",
       "                                   transformers=[('onehotencoder',\n",
       "                                                  OneHotEncoder(),\n",
       "                                                  ['PaymentMethod',\n",
       "                                                   'MultipleLines',\n",
       "                                                   'InternetService',\n",
       "                                                   'OnlineSecurity',\n",
       "                                                   'OnlineBackup',\n",
       "                                                   'DeviceProtection',\n",
       "                                                   'TechSupport', 'StreamingTV',\n",
       "                                                   'StreamingMovies',\n",
       "                                                   'Contract']),\n",
       "                                                 ('ordinalencoder',\n",
       "                                                  OrdinalEncoder(),\n",
       "                                                  ['gender', 'Partner',\n",
       "                                                   'Dependents', 'PhoneService',\n",
       "                                                   'PaperlessBilling']),\n",
       "                                                 ('standardscaler',\n",
       "                                                  StandardScaler(),\n",
       "                                                  ['tenure', 'MonthlyCharges',\n",
       "                                                   'TotalCharges'])])),\n",
       "                ('kerasclassifier',\n",
       "                 KerasClassifier(batch_size=168, build_fn=<function nn_cl_func at 0x158022cb0>, epochs=44, verbose=0))])"
      ]
     },
     "execution_count": 28,
     "metadata": {},
     "output_type": "execute_result"
    }
   ],
   "source": [
    "optimized_pipeline.fit(X_train, y_train)"
   ]
  },
  {
   "cell_type": "code",
   "execution_count": 29,
   "id": "bb67c736",
   "metadata": {},
   "outputs": [
    {
     "data": {
      "text/plain": [
       "0.7982954545454546"
      ]
     },
     "execution_count": 29,
     "metadata": {},
     "output_type": "execute_result"
    }
   ],
   "source": [
    "new_preds = optimized_pipeline.predict(X_test)\n",
    "new_preds = (new_preds > 0.5)\n",
    "accuracy_score(y_test, new_preds)"
   ]
  },
  {
   "cell_type": "code",
   "execution_count": 30,
   "id": "cc1f36dc",
   "metadata": {},
   "outputs": [
    {
     "data": {
      "text/plain": [
       "array([[1403,  148],\n",
       "       [ 278,  283]])"
      ]
     },
     "execution_count": 30,
     "metadata": {},
     "output_type": "execute_result"
    }
   ],
   "source": [
    "confusion_matrix(y_test, new_preds)"
   ]
  },
  {
   "cell_type": "code",
   "execution_count": 31,
   "id": "a2e610d3",
   "metadata": {},
   "outputs": [
    {
     "data": {
      "text/plain": [
       "0.5705645161290324"
      ]
     },
     "execution_count": 31,
     "metadata": {},
     "output_type": "execute_result"
    }
   ],
   "source": [
    "f1_score(y_true= y_test, y_pred= new_preds)"
   ]
  },
  {
   "cell_type": "code",
   "execution_count": 32,
   "id": "d395f879",
   "metadata": {},
   "outputs": [
    {
     "name": "stdout",
     "output_type": "stream",
     "text": [
      "              precision    recall  f1-score   support\n",
      "\n",
      "           0       0.83      0.90      0.87      1551\n",
      "           1       0.66      0.50      0.57       561\n",
      "\n",
      "    accuracy                           0.80      2112\n",
      "   macro avg       0.75      0.70      0.72      2112\n",
      "weighted avg       0.79      0.80      0.79      2112\n",
      "\n"
     ]
    }
   ],
   "source": [
    "print(classification_report(y_test, new_preds))"
   ]
  },
  {
   "cell_type": "markdown",
   "id": "58aa99d9",
   "metadata": {},
   "source": [
    "## Further Evaluation"
   ]
  },
  {
   "cell_type": "markdown",
   "id": "6dd1d0ae",
   "metadata": {},
   "source": [
    "Evalauting Normal Model:"
   ]
  },
  {
   "cell_type": "code",
   "execution_count": 33,
   "id": "ef6a07b7",
   "metadata": {
    "scrolled": true
   },
   "outputs": [
    {
     "name": "stdout",
     "output_type": "stream",
     "text": [
      "50/50 [==============================] - 0s 769us/step\n",
      "22/22 [==============================] - 0s 648us/step\n",
      "Accuracy for test set: 0.7969\n",
      "Accuracy for train set: 0.8176\n",
      "\n",
      "\n",
      "Precision for test set: 0.6602\n",
      "Precision for train set: 0.6987\n",
      "\n",
      "\n",
      "Recall for test set: 0.4848\n",
      "Recall for train set: 0.5497\n"
     ]
    }
   ],
   "source": [
    "from sklearn.metrics import accuracy_score, precision_score, recall_score, confusion_matrix\n",
    "\n",
    "train_set_preds = [round(x) for x in pipeline.predict(X_train)]\n",
    "test_set_preds = [round(x) for x in pipeline.predict(X_test)]\n",
    "\n",
    "print('Accuracy for test set: %0.4f' % accuracy_score(y_test, test_set_preds))\n",
    "print('Accuracy for train set: %0.4f' % accuracy_score(y_train, train_set_preds))\n",
    "\n",
    "print('\\n')\n",
    "\n",
    "print('Precision for test set: %0.4f' % precision_score(y_test, test_set_preds))\n",
    "print('Precision for train set: %0.4f' % precision_score(y_train, train_set_preds))\n",
    "\n",
    "print('\\n')\n",
    "\n",
    "print('Recall for test set: %0.4f' % recall_score(y_test, test_set_preds))\n",
    "print('Recall for train set: %0.4f' % recall_score(y_train, train_set_preds))"
   ]
  },
  {
   "cell_type": "markdown",
   "id": "2e1d7211",
   "metadata": {},
   "source": [
    "Evalauting Optimized Model:"
   ]
  },
  {
   "cell_type": "code",
   "execution_count": 34,
   "id": "edb0e940",
   "metadata": {},
   "outputs": [
    {
     "name": "stdout",
     "output_type": "stream",
     "text": [
      "Accuracy for test set: 0.7983\n",
      "Accuracy for train set: 0.8123\n",
      "\n",
      "\n",
      "Precision for test set: 0.6566\n",
      "Precision for train set: 0.6805\n",
      "\n",
      "\n",
      "Recall for test set: 0.5045\n",
      "Recall for train set: 0.5520\n"
     ]
    }
   ],
   "source": [
    "train_set_preds = [round(x) for x in optimized_pipeline.predict(X_train)]\n",
    "test_set_preds = [round(x) for x in optimized_pipeline.predict(X_test)]\n",
    "\n",
    "print('Accuracy for test set: %0.4f' % accuracy_score(y_test, test_set_preds))\n",
    "print('Accuracy for train set: %0.4f' % accuracy_score(y_train, train_set_preds))\n",
    "\n",
    "print('\\n')\n",
    "\n",
    "print('Precision for test set: %0.4f' % precision_score(y_test, test_set_preds))\n",
    "print('Precision for train set: %0.4f' % precision_score(y_train, train_set_preds))\n",
    "\n",
    "print('\\n')\n",
    "\n",
    "print('Recall for test set: %0.4f' % recall_score(y_test, test_set_preds))\n",
    "print('Recall for train set: %0.4f' % recall_score(y_train, train_set_preds))"
   ]
  },
  {
   "cell_type": "markdown",
   "id": "1471bb1f",
   "metadata": {},
   "source": [
    "## Saving the Model"
   ]
  },
  {
   "cell_type": "code",
   "execution_count": null,
   "id": "69d77617",
   "metadata": {
    "scrolled": true
   },
   "outputs": [],
   "source": [
    "import joblib\n",
    "\n",
    "joblib.dump(pipeline, \"pipeline.joblib\")"
   ]
  }
 ],
 "metadata": {
  "kernelspec": {
   "display_name": "Python 3 (ipykernel)",
   "language": "python",
   "name": "python3"
  },
  "language_info": {
   "codemirror_mode": {
    "name": "ipython",
    "version": 3
   },
   "file_extension": ".py",
   "mimetype": "text/x-python",
   "name": "python",
   "nbconvert_exporter": "python",
   "pygments_lexer": "ipython3",
   "version": "3.10.1"
  }
 },
 "nbformat": 4,
 "nbformat_minor": 5
}
